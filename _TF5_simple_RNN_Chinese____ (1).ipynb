{
  "nbformat": 4,
  "nbformat_minor": 0,
  "metadata": {
    "accelerator": "GPU",
    "colab": {
      "name": "「TF5_simple RNN_Chinese」的副本",
      "provenance": [],
      "collapsed_sections": [],
      "toc_visible": true
    },
    "kernelspec": {
      "display_name": "Python 3",
      "name": "python3"
    }
  },
  "cells": [
    {
      "cell_type": "markdown",
      "metadata": {
        "id": "4g9L3sG8m7U5"
      },
      "source": [
        "# 循環神經網絡 Recurrent Neural Networks\n",
        "循環神經網絡解（RNN）特別適合處理序列的資料，序列資料代表資料的時間、前後順序有意義，例如文字資料，字詞的先後次序改變，可能意義就不一樣。 以前我們在處理文字資料時，把文件當成文字袋（Bag of Words）來處理，字詞出現的頻率成為觀察的重點，字詞的順序被忽略了，RNN則沒有這個毛病。\n"
      ]
    },
    {
      "cell_type": "markdown",
      "metadata": {
        "id": "XmCbDzsY4enO"
      },
      "source": [
        "# 使用自己的資料\n",
        "* 使用自己的中文的資料，有些地方要注意。\n",
        "* 首先，tensorflow 有些工具可以讀入資料夾內的所有多檔案，並進行文字向量化的過程。所以資料的儲放方式與資料夾路徑要注意。資料可以是一筆一個檔案，也可能是放在一個大檔案中，一行代表一筆資料，有不同的指令處理這個問題。\n",
        "* 原始的文字資料要向量化，改為以數字代表的序列，然而，在進行這個工作以前要斷詞，亦即以字詞為單位。當然斷詞的工具，中文與英文有別。\n",
        "* 分析的過程，概分為:\n",
        "\n",
        " 1 prepare data 資料前處理 \n",
        "\n",
        " 2 model 建立模型\n",
        "\n",
        " 3 compile\n",
        "\n",
        " 4 fit\n",
        "\n",
        " 5 evaluation\n",
        "\n",
        " 6 application\n",
        "\n",
        " 六個階段，在範例中都會說明。\n",
        "\n",
        "* 本週我們介紹兩種資料匯入的方式，建立兩個模型 CNN 與 RNN。\n"
      ]
    },
    {
      "cell_type": "code",
      "metadata": {
        "id": "o_gbe3iaIj3b",
        "colab": {
          "base_uri": "https://localhost:8080/"
        },
        "outputId": "29688200-89f1-4cda-b899-429acc22c53b"
      },
      "source": [
        "# Be sure you're using the stable versions of both tf and tf-text, for binary compatibility.\n",
        "!pip install -q -U tensorflow\n",
        "!pip install -q -U tensorflow-text"
      ],
      "execution_count": 5,
      "outputs": [
        {
          "output_type": "stream",
          "text": [
            "\u001b[K     |████████████████████████████████| 4.3MB 8.3MB/s \n",
            "\u001b[?25h"
          ],
          "name": "stdout"
        }
      ]
    },
    {
      "cell_type": "markdown",
      "metadata": {
        "id": "8J3YVtE7sXct"
      },
      "source": [
        "\n",
        "## 整理資料"
      ]
    },
    {
      "cell_type": "code",
      "metadata": {
        "id": "Oevh3uQcIj6o"
      },
      "source": [
        "import os\n",
        "import shutil\n",
        "import collections\n",
        "import pathlib\n",
        "import re\n",
        "import string\n",
        "import numpy as np\n",
        "from sklearn.model_selection import train_test_split\n",
        "\n",
        "import tensorflow as tf\n",
        "\n",
        "from tensorflow.keras import layers\n",
        "from tensorflow.keras import losses\n",
        "from tensorflow.keras import preprocessing\n",
        "from tensorflow.keras import utils\n",
        "from tensorflow.keras.layers.experimental.preprocessing import TextVectorization\n",
        "from tensorflow.keras.layers import Embedding,Bidirectional, Conv1D, GlobalMaxPooling1D,Dense,SimpleRNN\n",
        "from tensorflow.keras import Sequential\n",
        "\n",
        "import tensorflow_datasets as tfds\n",
        "import tensorflow_text as tf_text"
      ],
      "execution_count": 6,
      "outputs": []
    },
    {
      "cell_type": "markdown",
      "metadata": {
        "id": "cf2P5JEfl8ug"
      },
      "source": [
        "### 叫入已斷詞之情緒文本"
      ]
    },
    {
      "cell_type": "code",
      "metadata": {
        "colab": {
          "base_uri": "https://localhost:8080/",
          "height": 586
        },
        "id": "FHteKLK_jhMf",
        "outputId": "d0fdb67b-c267-48c9-80ef-0cf0737383c5"
      },
      "source": [
        "#####################################################################\n",
        "import pandas as pd\n",
        "path='d:/My python/'\n",
        "df=pd.read_excel(\"https://ceiba.ntu.edu.tw/course/cd0f9d/sentiment_P_N_add_token.xlsx\")\n",
        "df"
      ],
      "execution_count": 7,
      "outputs": [
        {
          "output_type": "execute_result",
          "data": {
            "text/html": [
              "<div>\n",
              "<style scoped>\n",
              "    .dataframe tbody tr th:only-of-type {\n",
              "        vertical-align: middle;\n",
              "    }\n",
              "\n",
              "    .dataframe tbody tr th {\n",
              "        vertical-align: top;\n",
              "    }\n",
              "\n",
              "    .dataframe thead th {\n",
              "        text-align: right;\n",
              "    }\n",
              "</style>\n",
              "<table border=\"1\" class=\"dataframe\">\n",
              "  <thead>\n",
              "    <tr style=\"text-align: right;\">\n",
              "      <th></th>\n",
              "      <th>Unnamed: 0</th>\n",
              "      <th>text</th>\n",
              "      <th>tag</th>\n",
              "      <th>token</th>\n",
              "    </tr>\n",
              "  </thead>\n",
              "  <tbody>\n",
              "    <tr>\n",
              "      <th>0</th>\n",
              "      <td>0</td>\n",
              "      <td>(1)內存有點小。(2)附贈的鼠標太小了。(3)發現有的時候，在桌面上拖動鼠標，會有延遲的現...</td>\n",
              "      <td>N</td>\n",
              "      <td>內存 有點 小 。 附贈 的 鼠標 太小 了 。 發現 有 的 時候 ， 在 桌面上 拖動 ...</td>\n",
              "    </tr>\n",
              "    <tr>\n",
              "      <th>1</th>\n",
              "      <td>1</td>\n",
              "      <td>（1）外屏非彩屏，內屏的解析度128*160偏低。（2）內存小，處理器的速度慢。（3）圖像解...</td>\n",
              "      <td>N</td>\n",
              "      <td>外屏 非 彩屏 ， 內屏 的 解析度 * 偏低 。 內存 小 ， 處理器 的 速度慢 。 圖...</td>\n",
              "    </tr>\n",
              "    <tr>\n",
              "      <th>2</th>\n",
              "      <td>2</td>\n",
              "      <td>（1）我不知道在哪裡下載鈴聲，支持VK的網站實在少得可憐；（2）沒有簡訊卻群發功能，這對於我...</td>\n",
              "      <td>N</td>\n",
              "      <td>我 不 知道 在 哪裡 下載 鈴聲 ， 支持 VK 的 網站 實在 少得 可憐 ； 沒有 簡...</td>\n",
              "    </tr>\n",
              "    <tr>\n",
              "      <th>3</th>\n",
              "      <td>3</td>\n",
              "      <td>（1）按鍵不舒服，特別是處在邊緣的四個健13*越是中間的鍵越舒服。（2）製作上和國外大廠畢竟...</td>\n",
              "      <td>N</td>\n",
              "      <td>按鍵 不 舒服 ， 特別 是 處在 邊緣 的 四個 健 * 越是 中間 的 鍵 越 舒服 。...</td>\n",
              "    </tr>\n",
              "    <tr>\n",
              "      <th>4</th>\n",
              "      <td>4</td>\n",
              "      <td>（1）酒店冊子介紹說房間內提供飲用水，水壺內沒有水，給前臺提意見。前臺說飲用水就是衛生間的自...</td>\n",
              "      <td>N</td>\n",
              "      <td>酒店 冊子 介紹 說 房間內 提供 飲用水 ， 水壺 內 沒有 水 ， 給 前臺 提意見 。...</td>\n",
              "    </tr>\n",
              "    <tr>\n",
              "      <th>...</th>\n",
              "      <td>...</td>\n",
              "      <td>...</td>\n",
              "      <td>...</td>\n",
              "      <td>...</td>\n",
              "    </tr>\n",
              "    <tr>\n",
              "      <th>72935</th>\n",
              "      <td>72935</td>\n",
              "      <td>未來高雄將在半導體、電動車、綠能等各方面串起科技廊帶，加速下世代半導體產業發展，讓優秀人才不...</td>\n",
              "      <td>P</td>\n",
              "      <td>未來 高雄 將在 半導體 、 電動車 、 綠能 等 各 方面 串起 科技 廊 帶 ， 加速 ...</td>\n",
              "    </tr>\n",
              "    <tr>\n",
              "      <th>72936</th>\n",
              "      <td>72936</td>\n",
              "      <td>自己曾在外商公司服務，也將業界的精神、態度、語言帶市府，用最接地氣的方式服務產業界</td>\n",
              "      <td>P</td>\n",
              "      <td>自己 曾 在 外商 公司 服務 ， 也將 業界 的 精神 、 態度 、 語言 帶 市府 ， ...</td>\n",
              "    </tr>\n",
              "    <tr>\n",
              "      <th>72937</th>\n",
              "      <td>72937</td>\n",
              "      <td>非常重視產業轉型、創造就業兩大優先政策，未來市府在半導體供應鏈短鏈建構、解決五缺問題，串起上...</td>\n",
              "      <td>P</td>\n",
              "      <td>非常重視 產業轉型 、 創造 就業 兩大 優先 政策 ， 未來 市府 在 半導體 供應鏈 短...</td>\n",
              "    </tr>\n",
              "    <tr>\n",
              "      <th>72938</th>\n",
              "      <td>72938</td>\n",
              "      <td>結合亞灣5G AIoT創新園區的建設，將從產線到服務串起供應鏈，機會在高雄、歡迎大家踴躍投資</td>\n",
              "      <td>P</td>\n",
              "      <td>結合 亞灣 GAIoT 創新 園區 的 建設 ， 將從 產線 到 服務 串起 供應鏈 ， 機...</td>\n",
              "    </tr>\n",
              "    <tr>\n",
              "      <th>72939</th>\n",
              "      <td>72939</td>\n",
              "      <td>多位貴賓都出席了這場論壇，暢談大高雄產業與城市發展，現場互動熱絡。</td>\n",
              "      <td>P</td>\n",
              "      <td>多位 貴賓 都 出席 了 這場 論壇 ， 暢談 大 高雄 產業 與 城市 發展 ， 現場 互...</td>\n",
              "    </tr>\n",
              "  </tbody>\n",
              "</table>\n",
              "<p>72940 rows × 4 columns</p>\n",
              "</div>"
            ],
            "text/plain": [
              "       Unnamed: 0  ...                                              token\n",
              "0               0  ...  內存 有點 小 。 附贈 的 鼠標 太小 了 。 發現 有 的 時候 ， 在 桌面上 拖動 ...\n",
              "1               1  ...  外屏 非 彩屏 ， 內屏 的 解析度 * 偏低 。 內存 小 ， 處理器 的 速度慢 。 圖...\n",
              "2               2  ...  我 不 知道 在 哪裡 下載 鈴聲 ， 支持 VK 的 網站 實在 少得 可憐 ； 沒有 簡...\n",
              "3               3  ...  按鍵 不 舒服 ， 特別 是 處在 邊緣 的 四個 健 * 越是 中間 的 鍵 越 舒服 。...\n",
              "4               4  ...  酒店 冊子 介紹 說 房間內 提供 飲用水 ， 水壺 內 沒有 水 ， 給 前臺 提意見 。...\n",
              "...           ...  ...                                                ...\n",
              "72935       72935  ...  未來 高雄 將在 半導體 、 電動車 、 綠能 等 各 方面 串起 科技 廊 帶 ， 加速 ...\n",
              "72936       72936  ...  自己 曾 在 外商 公司 服務 ， 也將 業界 的 精神 、 態度 、 語言 帶 市府 ， ...\n",
              "72937       72937  ...  非常重視 產業轉型 、 創造 就業 兩大 優先 政策 ， 未來 市府 在 半導體 供應鏈 短...\n",
              "72938       72938  ...  結合 亞灣 GAIoT 創新 園區 的 建設 ， 將從 產線 到 服務 串起 供應鏈 ， 機...\n",
              "72939       72939  ...  多位 貴賓 都 出席 了 這場 論壇 ， 暢談 大 高雄 產業 與 城市 發展 ， 現場 互...\n",
              "\n",
              "[72940 rows x 4 columns]"
            ]
          },
          "metadata": {
            "tags": []
          },
          "execution_count": 7
        }
      ]
    },
    {
      "cell_type": "code",
      "metadata": {
        "id": "d6W4INjtldtR",
        "colab": {
          "base_uri": "https://localhost:8080/"
        },
        "outputId": "c1d20d0b-52dd-4c42-c639-402d7033476c"
      },
      "source": [
        "# 刪除 na\n",
        "df.drop(list(df[df.token==\"na\"].index),axis=0, inplace=True)\n",
        "len(df)"
      ],
      "execution_count": 8,
      "outputs": [
        {
          "output_type": "execute_result",
          "data": {
            "text/plain": [
              "72940"
            ]
          },
          "metadata": {
            "tags": []
          },
          "execution_count": 8
        }
      ]
    },
    {
      "cell_type": "code",
      "metadata": {
        "id": "QwBAV6bOsnuo",
        "colab": {
          "base_uri": "https://localhost:8080/"
        },
        "outputId": "79b7ab9d-000e-48e8-85c4-7d77caca2c51"
      },
      "source": [
        "df.tag.unique()"
      ],
      "execution_count": 9,
      "outputs": [
        {
          "output_type": "execute_result",
          "data": {
            "text/plain": [
              "array(['N', 'P'], dtype=object)"
            ]
          },
          "metadata": {
            "tags": []
          },
          "execution_count": 9
        }
      ]
    },
    {
      "cell_type": "code",
      "metadata": {
        "id": "DW2ve2QWRkxG"
      },
      "source": [
        "# label 有錯誤校正\n",
        "tag=df.tag.str.replace(\" \",\"\")\n",
        "df.tag=tag"
      ],
      "execution_count": 10,
      "outputs": []
    },
    {
      "cell_type": "code",
      "metadata": {
        "id": "Ryl2-glPRq9f",
        "colab": {
          "base_uri": "https://localhost:8080/"
        },
        "outputId": "830d045d-8ca3-462a-80f3-24f10ed9d3ff"
      },
      "source": [
        "df.tag.unique()"
      ],
      "execution_count": 11,
      "outputs": [
        {
          "output_type": "execute_result",
          "data": {
            "text/plain": [
              "array(['N', 'P'], dtype=object)"
            ]
          },
          "metadata": {
            "tags": []
          },
          "execution_count": 11
        }
      ]
    },
    {
      "cell_type": "code",
      "metadata": {
        "id": "XH4_JYddldwC",
        "colab": {
          "base_uri": "https://localhost:8080/",
          "height": 528
        },
        "outputId": "799851d4-39a2-41cd-a627-72b3b36f0195"
      },
      "source": [
        "df.sample(10)"
      ],
      "execution_count": 12,
      "outputs": [
        {
          "output_type": "execute_result",
          "data": {
            "text/html": [
              "<div>\n",
              "<style scoped>\n",
              "    .dataframe tbody tr th:only-of-type {\n",
              "        vertical-align: middle;\n",
              "    }\n",
              "\n",
              "    .dataframe tbody tr th {\n",
              "        vertical-align: top;\n",
              "    }\n",
              "\n",
              "    .dataframe thead th {\n",
              "        text-align: right;\n",
              "    }\n",
              "</style>\n",
              "<table border=\"1\" class=\"dataframe\">\n",
              "  <thead>\n",
              "    <tr style=\"text-align: right;\">\n",
              "      <th></th>\n",
              "      <th>Unnamed: 0</th>\n",
              "      <th>text</th>\n",
              "      <th>tag</th>\n",
              "      <th>token</th>\n",
              "    </tr>\n",
              "  </thead>\n",
              "  <tbody>\n",
              "    <tr>\n",
              "      <th>9441</th>\n",
              "      <td>9441</td>\n",
              "      <td>今天讀了第八章——時間之箭，文中寫道未來，不僅僅是可能性，實際上是一種我們現在、此刻就擁有的...</td>\n",
              "      <td>P</td>\n",
              "      <td>今天 讀 了 第八章 — — 時間 之箭 ， 文中 寫道 未來 ， 不僅僅 是 可能性 ， ...</td>\n",
              "    </tr>\n",
              "    <tr>\n",
              "      <th>38882</th>\n",
              "      <td>38882</td>\n",
              "      <td>京東服務不用說了！蘋果太差了！不是第一次在京東買蘋果了！這次都是小的，沒一個圓的歪七歪八！還...</td>\n",
              "      <td>N</td>\n",
              "      <td>京東 服務 不用說 了 ！ 蘋果 太差 了 ！ 不是 第一次 在 京東 買 蘋果 了 ！ 這...</td>\n",
              "    </tr>\n",
              "    <tr>\n",
              "      <th>17787</th>\n",
              "      <td>17787</td>\n",
              "      <td>以前女兒就與鄰居家的小姐姐玩過「老狼老狼幾點鐘」的遊戲，這次見了故事書，喜歡得不得了。在幼兒...</td>\n",
              "      <td>P</td>\n",
              "      <td>以前 女兒 就 與 鄰居家 的 小姐姐 玩過 「 老狼 老狼 幾點鐘 」 的 遊戲 ， 這次...</td>\n",
              "    </tr>\n",
              "    <tr>\n",
              "      <th>16402</th>\n",
              "      <td>16402</td>\n",
              "      <td>簡單大方，配置不錯，但我是5399買的，看到有留言說4299就搶購到了，心裡覺得有一點點不平衡。</td>\n",
              "      <td>P</td>\n",
              "      <td>簡單 大方 ， 配置 不錯 ， 但 我 是 買 的 ， 看到 有留 言說 就 搶購 到 了 ...</td>\n",
              "    </tr>\n",
              "    <tr>\n",
              "      <th>52774</th>\n",
              "      <td>52774</td>\n",
              "      <td>褲子很不錯，摸著很舒服，質量特別好，洗了也不掉色。</td>\n",
              "      <td>P</td>\n",
              "      <td>褲子 很 不錯 ， 摸 著 很 舒服 ， 質量 特別 好 ， 洗 了 也 不 掉色 。</td>\n",
              "    </tr>\n",
              "    <tr>\n",
              "      <th>13848</th>\n",
              "      <td>13848</td>\n",
              "      <td>很久就聽說這書了，沒想到，不經意的閱讀後，帶給我的是淡淡的憂傷和惆悵。不知道童話也可以用平淡...</td>\n",
              "      <td>P</td>\n",
              "      <td>很久 就 聽說 這書 了 ， 沒想到 ， 不經意 的 閱讀 後 ， 帶給 我 的 是 淡淡的...</td>\n",
              "    </tr>\n",
              "    <tr>\n",
              "      <th>27044</th>\n",
              "      <td>27044</td>\n",
              "      <td>垃圾客服，打了十來個電話都沒解決得了！京東在這麼做，離關門不遠了</td>\n",
              "      <td>N</td>\n",
              "      <td>垃圾 客服 ， 打 了 十來個 電話 都 沒 解決 得 了 ！ 京東 在 這麼 做 ， 離 ...</td>\n",
              "    </tr>\n",
              "    <tr>\n",
              "      <th>16432</th>\n",
              "      <td>16432</td>\n",
              "      <td>結合梁先生的&lt;&lt;初等數學復習及研究(平面幾何)&gt;&gt;,發現了這樣的一個問題現在市場上的中學生所...</td>\n",
              "      <td>P</td>\n",
              "      <td>結合 梁先生 的 初等數學 復 習及 研究 平面幾何 , 發現 了 這樣 的 一個 問題 現...</td>\n",
              "    </tr>\n",
              "    <tr>\n",
              "      <th>45411</th>\n",
              "      <td>45411</td>\n",
              "      <td>618活動買的，買了好多洗護系列，一大堆，可以全家四五口人用一年的了吧～京東師傅人很好，包裝...</td>\n",
              "      <td>P</td>\n",
              "      <td>活動 買 的 ， 買 了 好多 洗護 系列 ， 一大堆 ， 可以 全家 四五口 人用 一年 ...</td>\n",
              "    </tr>\n",
              "    <tr>\n",
              "      <th>69209</th>\n",
              "      <td>69209</td>\n",
              "      <td>一個字，屎，尤其前台和早餐的服務，絕對的差到極點</td>\n",
              "      <td>N</td>\n",
              "      <td>一個 字 ， 屎 ， 尤其 前臺 和 早餐 的 服務 ， 絕對 的 差 到極點</td>\n",
              "    </tr>\n",
              "  </tbody>\n",
              "</table>\n",
              "</div>"
            ],
            "text/plain": [
              "       Unnamed: 0  ...                                              token\n",
              "9441         9441  ...  今天 讀 了 第八章 — — 時間 之箭 ， 文中 寫道 未來 ， 不僅僅 是 可能性 ， ...\n",
              "38882       38882  ...  京東 服務 不用說 了 ！ 蘋果 太差 了 ！ 不是 第一次 在 京東 買 蘋果 了 ！ 這...\n",
              "17787       17787  ...  以前 女兒 就 與 鄰居家 的 小姐姐 玩過 「 老狼 老狼 幾點鐘 」 的 遊戲 ， 這次...\n",
              "16402       16402  ...  簡單 大方 ， 配置 不錯 ， 但 我 是 買 的 ， 看到 有留 言說 就 搶購 到 了 ...\n",
              "52774       52774  ...       褲子 很 不錯 ， 摸 著 很 舒服 ， 質量 特別 好 ， 洗 了 也 不 掉色 。 \n",
              "13848       13848  ...  很久 就 聽說 這書 了 ， 沒想到 ， 不經意 的 閱讀 後 ， 帶給 我 的 是 淡淡的...\n",
              "27044       27044  ...  垃圾 客服 ， 打 了 十來個 電話 都 沒 解決 得 了 ！ 京東 在 這麼 做 ， 離 ...\n",
              "16432       16432  ...  結合 梁先生 的 初等數學 復 習及 研究 平面幾何 , 發現 了 這樣 的 一個 問題 現...\n",
              "45411       45411  ...  活動 買 的 ， 買 了 好多 洗護 系列 ， 一大堆 ， 可以 全家 四五口 人用 一年 ...\n",
              "69209       69209  ...           一個 字 ， 屎 ， 尤其 前臺 和 早餐 的 服務 ， 絕對 的 差 到極點 \n",
              "\n",
              "[10 rows x 4 columns]"
            ]
          },
          "metadata": {
            "tags": []
          },
          "execution_count": 12
        }
      ]
    },
    {
      "cell_type": "code",
      "metadata": {
        "id": "WaDjPIuWsnxt",
        "colab": {
          "base_uri": "https://localhost:8080/",
          "height": 265
        },
        "outputId": "843bcc79-a6a5-4ccf-d00a-b595be2d6ba4"
      },
      "source": [
        "import matplotlib.pyplot as plt\n",
        "classes = df.tag.unique()\n",
        "counts = []\n",
        "\n",
        "for i in classes:\n",
        "  count = len(df[df.tag==i])\n",
        "  counts.append(count)\n",
        "\n",
        "plt.bar(['negative', 'positive'], counts)\n",
        "plt.show()"
      ],
      "execution_count": 13,
      "outputs": [
        {
          "output_type": "display_data",
          "data": {
            "image/png": "[encoded data removed]",
            "text/plain": [
              "<Figure size 432x288 with 1 Axes>"
            ]
          },
          "metadata": {
            "tags": [],
            "needs_background": "light"
          }
        }
      ]
    },
    {
      "cell_type": "markdown",
      "metadata": {
        "id": "juEuDjdQ4s5Z"
      },
      "source": [
        "## DataFrame 轉為檔案系統\n",
        "sentiment_P_N_add_token.xlsx"
      ]
    },
    {
      "cell_type": "markdown",
      "metadata": {
        "id": "n4j5s680uYqW"
      },
      "source": [
        "## 檔案重組\n",
        "* **一筆資料一個檔案**\n",
        "* 檔案結構，須配合調整。\n",
        "* 資料分 train 與test 兩個資料夾\n",
        "* 其下依類別變數，分別存於不同的資料夾，資料夾名稱與類別變數同\n",
        "* 本例有pos與neg兩個資料夾，代表不同的情感態度\n"
      ]
    },
    {
      "cell_type": "markdown",
      "metadata": {
        "id": "MH9ogFO4Jnjs"
      },
      "source": [
        "* preprocessing.text_dataset_from_directory 函數可讀取檔案，其檔案的格式如下所示：\n",
        "* 亦即我們要新建四個目錄，把所有的檔案拷貝進去。"
      ]
    },
    {
      "cell_type": "markdown",
      "metadata": {
        "id": "v_2VakwnJpFL"
      },
      "source": [
        "dataset/train/pos/\n",
        "\n",
        "......1.txt\n",
        "\n",
        "......2.txt\n",
        "\n",
        "dataset/train/neg/\n",
        "\n",
        "......1.txt\n",
        "\n",
        "......2.txt\n",
        "\n",
        "dataset/test/pos/\n",
        "\n",
        "......1.txt\n",
        "\n",
        "......2.txt\n",
        "\n",
        "dataset/test/neg/\n",
        "\n",
        "......1.txt\n",
        "\n",
        "......2.txt"
      ]
    },
    {
      "cell_type": "markdown",
      "metadata": {
        "id": "rvouQyt3G-Pv"
      },
      "source": [
        "### 區分為 df_train, df_test"
      ]
    },
    {
      "cell_type": "code",
      "metadata": {
        "id": "_GolyF6BFYv3",
        "colab": {
          "base_uri": "https://localhost:8080/"
        },
        "outputId": "0d709b69-5961-4bda-bc0f-a885ac5ae98c"
      },
      "source": [
        "df_test = pd.DataFrame()           \n",
        "df_train = pd.DataFrame()          \n",
        "tags = df['tag'].unique().tolist() \n",
        "\n",
        "# P 與 N 各抽百分之20 為 test 其餘為 train\n",
        "for tag in tags:\n",
        "    data = df[(df['tag'] == tag)]\n",
        "    sample = data.sample(int(0.2*len(data)))\n",
        "    sample_index = sample.index\n",
        "    all_index = data.index\n",
        "    residue_index = all_index.difference(sample_index) \n",
        "    residue = data.loc[residue_index]  \n",
        "    df_test = pd.concat([df_test, sample], ignore_index=True)\n",
        "    df_train = pd.concat([df_train, residue], ignore_index=True)\n",
        "print(len(df_train))\n",
        "print(len(df_test))     \n"
      ],
      "execution_count": 14,
      "outputs": [
        {
          "output_type": "stream",
          "text": [
            "58352\n",
            "14588\n"
          ],
          "name": "stdout"
        }
      ]
    },
    {
      "cell_type": "code",
      "metadata": {
        "id": "IzlGF-Vk2VlB"
      },
      "source": [
        "# df_train \n",
        "df_train_P=df_train[(df_train.tag==\"P\")][\"token\"]\n",
        "df_train_N=df_train[(df_train.tag==\"N\")][\"token\"]\n",
        "# df_test\n",
        "df_test_P=df_test[(df_test.tag==\"P\")][\"token\"]\n",
        "df_test_N=df_test[(df_test.tag==\"N\")][\"token\"]"
      ],
      "execution_count": 15,
      "outputs": []
    },
    {
      "cell_type": "code",
      "metadata": {
        "id": "k07gYfxu2Vyb",
        "colab": {
          "base_uri": "https://localhost:8080/"
        },
        "outputId": "f291e82a-a013-430f-c730-27a5930242b9"
      },
      "source": [
        "# 目前資料夾\n",
        "cur=os.getcwd()\n",
        "print (cur)"
      ],
      "execution_count": 16,
      "outputs": [
        {
          "output_type": "stream",
          "text": [
            "/content\n"
          ],
          "name": "stdout"
        }
      ]
    },
    {
      "cell_type": "code",
      "metadata": {
        "id": "Bz0WdrVyBq31",
        "colab": {
          "base_uri": "https://localhost:8080/"
        },
        "outputId": "2064a07a-f7bf-42df-96de-97b5c51451ff"
      },
      "source": [
        "# 產生資料夾\n",
        "dir=[\"/dataset\",\"/dataset/train\",\"/dataset/test\",\n",
        "     \"/dataset/train/positive\",\"/dataset/train/negative\",\n",
        "     \"/dataset/test/positive\",\"/dataset/test/negative\"]\n",
        "for d in dir:\n",
        "  if not os.path.exists(cur+d):\n",
        "    os.mkdir(cur+d)\n",
        "    print(cur+d + \"已經建立！\")\n",
        "  else:\n",
        "    shutil.rmtree(cur+d)\n",
        "    os.mkdir(cur+d)\n",
        "    print(cur+d + \"已經建立！\")"
      ],
      "execution_count": 17,
      "outputs": [
        {
          "output_type": "stream",
          "text": [
            "/content/dataset已經建立！\n",
            "/content/dataset/train已經建立！\n",
            "/content/dataset/test已經建立！\n",
            "/content/dataset/train/positive已經建立！\n",
            "/content/dataset/train/negative已經建立！\n",
            "/content/dataset/test/positive已經建立！\n",
            "/content/dataset/test/negative已經建立！\n"
          ],
          "name": "stdout"
        }
      ]
    },
    {
      "cell_type": "code",
      "metadata": {
        "id": "-3mhc5SUg3UZ",
        "colab": {
          "base_uri": "https://localhost:8080/"
        },
        "outputId": "c060c028-ad08-4e96-fdd3-9c564b3b0706"
      },
      "source": [
        "# 檢查資料\n",
        "df_train_P"
      ],
      "execution_count": 18,
      "outputs": [
        {
          "output_type": "execute_result",
          "data": {
            "text/plain": [
              "28616    我 是 月 日 入住 中遠 酒店 的 ， 我 覺得 的 價位 性價比 非常 高 , 酒店 可...\n",
              "28617    外觀 時尚 ， 鍵盤 獨特 ， 色彩 亮麗 。 性價比 高 。 功能齊全 。 散熱 效果 非...\n",
              "28618    這款 筆記本 外觀 感覺 挺 漂亮 的 ， 分量 嗎 ， 對 我 來說 不算 沉 。 安裝 ...\n",
              "28619    京東 的 服務 還 可以 ， 但是 京東 配套 的 物流 就 真的 是 太差 了 ， 一般 ...\n",
              "28620    性價比 不錯 ， 做工 精緻 ， 外觀 尚可 ， 很 適合 工科 生用 這個 配置 和 價位...\n",
              "                               ...                        \n",
              "58347        工研院 產科 國際 所長 蘇孟宗 表示 ， 工研院 以 孵化 國內 優質 企業 為 目標 \n",
              "58348    未來 高雄 將在 半導體 、 電動車 、 綠能 等 各 方面 串起 科技 廊 帶 ， 加速 ...\n",
              "58349    自己 曾 在 外商 公司 服務 ， 也將 業界 的 精神 、 態度 、 語言 帶 市府 ， ...\n",
              "58350    非常重視 產業轉型 、 創造 就業 兩大 優先 政策 ， 未來 市府 在 半導體 供應鏈 短...\n",
              "58351    結合 亞灣 GAIoT 創新 園區 的 建設 ， 將從 產線 到 服務 串起 供應鏈 ， 機...\n",
              "Name: token, Length: 29736, dtype: object"
            ]
          },
          "metadata": {
            "tags": []
          },
          "execution_count": 18
        }
      ]
    },
    {
      "cell_type": "markdown",
      "metadata": {
        "id": "ji-isLezEefa"
      },
      "source": [
        "### 重新整理資料夾與檔案"
      ]
    },
    {
      "cell_type": "code",
      "metadata": {
        "id": "PgdJI00ydMc0"
      },
      "source": [
        "# 資料存入資料夾 \"/dataset/train/positive/pos\" \n",
        "for n in range(len(df_train_P)):\n",
        "  with open(cur+\"/dataset/train/positive/pos\"+ str(n)+\".txt\",\"w\") as f:\n",
        "    try:\n",
        "      f.write(df_train_P.tolist()[n]) \n",
        "    except:\n",
        "      pass\n",
        "# 資料存入資料夾 \"/dataset/train/negative/neg\"       \n",
        "for n in range(len(df_train_N)):\n",
        "  with open(cur+\"/dataset/train/negative/neg\"+ str(n)+\".txt\",\"w\") as f:\n",
        "    try:\n",
        "      f.write(df_train_N.tolist()[n])\n",
        "    except:\n",
        "      pass  \n",
        "# 資料存入資料夾 \"/dataset/test/positive/pos\"    \n",
        "for n in range(len(df_test_P)):\n",
        "  with open(cur+\"/dataset/test/positive/pos\"+ str(n)+\".txt\",\"w\") as f:\n",
        "    try:\n",
        "       f.write(df_test_P.tolist()[n])\n",
        "    except:\n",
        "      pass       \n",
        "# 資料存入資料夾 \"/dataset/test/positive/pos\"    \n",
        "for n in range(len(df_test_N)):\n",
        "  with open(cur+\"/dataset/test/negative/neg\"+ str(n)+\".txt\",\"w\") as f:\n",
        "    try:\n",
        "       f.write(df_test_N.tolist()[n])\n",
        "    except:\n",
        "      pass"
      ],
      "execution_count": 19,
      "outputs": []
    },
    {
      "cell_type": "code",
      "metadata": {
        "id": "UZLgJfv0541X"
      },
      "source": [
        "# 檢查檔案\n",
        "test_positive=os.listdir(cur+\"/dataset/test/positive\")"
      ],
      "execution_count": 20,
      "outputs": []
    },
    {
      "cell_type": "code",
      "metadata": {
        "id": "skKwi4Ksw-Mu",
        "colab": {
          "base_uri": "https://localhost:8080/",
          "height": 35
        },
        "outputId": "c177c87f-c09f-4082-80e4-345e481cbe5a"
      },
      "source": [
        "# 讀取一個檔案檢查\n",
        "import random\n",
        "i=random.choice(test_positive)\n",
        "file=open(cur+\"/dataset/train/positive/\"+i , mode='r')\n",
        "file.read()"
      ],
      "execution_count": 21,
      "outputs": [
        {
          "output_type": "execute_result",
          "data": {
            "application/vnd.google.colaboratory.intrinsic+json": {
              "type": "string"
            },
            "text/plain": [
              "'性價比 不錯 ， 但是 就是 貨物 從 出庫 到 自 提點 速度 太慢 了 ， 我 月 日 下 的 單子 ， 到號 才 到 自 提點 '"
            ]
          },
          "metadata": {
            "tags": []
          },
          "execution_count": 21
        }
      ]
    },
    {
      "cell_type": "markdown",
      "metadata": {
        "id": "oHZanCnNNLGy"
      },
      "source": [
        "## 1 讀入檔案，製作 batch\n",
        "* text_dataset_from_directory（）\n",
        "* raw_train_ds"
      ]
    },
    {
      "cell_type": "code",
      "metadata": {
        "id": "JRz48fS7J6_V",
        "colab": {
          "base_uri": "https://localhost:8080/"
        },
        "outputId": "9d322d5c-d2a1-4eff-bd6b-99f1e7836626"
      },
      "source": [
        "# train_dir 為 train 資料夾的路徑\n",
        "batch_size = 32\n",
        "seed = 42\n",
        "train_dir=cur+\"/dataset/train\"\n",
        "raw_train_ds = preprocessing.text_dataset_from_directory(\n",
        "    train_dir,\n",
        "    batch_size=batch_size,\n",
        "    validation_split=0.2,\n",
        "    subset='training',\n",
        "    seed=seed)"
      ],
      "execution_count": 22,
      "outputs": [
        {
          "output_type": "stream",
          "text": [
            "Found 58352 files belonging to 2 classes.\n",
            "Using 46682 files for training.\n"
          ],
          "name": "stdout"
        }
      ]
    },
    {
      "cell_type": "markdown",
      "metadata": {
        "id": "k0omFlFasZoz"
      },
      "source": [
        "#### 印出檢查\n",
        "* .take(1) 指令\n",
        "* 中文要加 .decode(\"utf-8\")"
      ]
    },
    {
      "cell_type": "code",
      "metadata": {
        "id": "1dbjG1MCJ7El",
        "colab": {
          "base_uri": "https://localhost:8080/"
        },
        "outputId": "a137822f-c89d-42d9-d82e-36b5ff812f61"
      },
      "source": [
        "# 顯示資料，前十筆\n",
        "for text_batch, label_batch in raw_train_ds.take(1):\n",
        "  for i in range(5):\n",
        "    # 注意要 .decode(\"utf-8\") 才能顯示中文字，英文則不需要 ***\n",
        "    print(\"doc: \", text_batch.numpy()[i].decode(\"utf-8\"))\n",
        "    print(\"Label:\", label_batch.numpy()[i])"
      ],
      "execution_count": 23,
      "outputs": [
        {
          "output_type": "stream",
          "text": [
            "doc:  很差 ， 非常 小 很 不划算 ！ 不如 實體店 水果 ！ 謹慎 購買 ！ \n",
            "Label: 0\n",
            "doc:  性價比 不錯 ， 鍵盤 比較 舒服 。 屏幕 的 現實 效果 很 好 ， 小巧 輕便 。 自帶 的 視頻 軟件 比較 好用 。 \n",
            "Label: 1\n",
            "doc:  我要 兩 條碼 的 ， 居然 搞錯 都 分不清 了 嗎 ， 瞎 幾把 發貨 ！ \n",
            "Label: 1\n",
            "doc:  最不開心 的 一次 購物 ， 還 華為 京東 旗艦店 ， 去 店鋪 里 都 看到 了 什麼 ？ 食雜店 ， 什麼 破 玩意 ， 都 沒給 我 發票 ， 退貨 訛 我 * ， 氣人 ， 什麼 鬼 。 \n",
            "Label: 0\n",
            "doc:  信號 比較 差 ， 所以 導致 通話質量 不高 。 \n",
            "Label: 0\n"
          ],
          "name": "stdout"
        }
      ]
    },
    {
      "cell_type": "code",
      "metadata": {
        "id": "tu8rkBTjKNK-",
        "colab": {
          "base_uri": "https://localhost:8080/"
        },
        "outputId": "6d9acc2c-bb8c-492f-883c-ec44672a2a68"
      },
      "source": [
        "# 顯示標籤(label)的代碼，共有兩個類別\n",
        "for i, label in enumerate(raw_train_ds.class_names):\n",
        "  print(\"Label\", i, \"corresponds to\", label)"
      ],
      "execution_count": 24,
      "outputs": [
        {
          "output_type": "stream",
          "text": [
            "Label 0 corresponds to negative\n",
            "Label 1 corresponds to positive\n"
          ],
          "name": "stdout"
        }
      ]
    },
    {
      "cell_type": "code",
      "metadata": {
        "id": "n8Uht_ohKi9D",
        "colab": {
          "base_uri": "https://localhost:8080/"
        },
        "outputId": "c20bf168-40dd-40bb-a707-972a578ce416"
      },
      "source": [
        "# train 資料夾內的內容，取20%為 validation\n",
        "raw_val_ds = preprocessing.text_dataset_from_directory(\n",
        "    train_dir,\n",
        "    batch_size=batch_size,\n",
        "    validation_split=0.2,\n",
        "    subset='validation',\n",
        "    seed=seed)"
      ],
      "execution_count": 25,
      "outputs": [
        {
          "output_type": "stream",
          "text": [
            "Found 58352 files belonging to 2 classes.\n",
            "Using 11670 files for validation.\n"
          ],
          "name": "stdout"
        }
      ]
    },
    {
      "cell_type": "code",
      "metadata": {
        "id": "ootceLGx2Ofa",
        "colab": {
          "base_uri": "https://localhost:8080/"
        },
        "outputId": "5aae8548-6a62-4903-8905-af5cc0b31cf6"
      },
      "source": [
        "# test 資料夾\n",
        "test_dir = cur+\"/dataset/test\"\n",
        "raw_test_ds = preprocessing.text_dataset_from_directory(\n",
        "    test_dir, batch_size=batch_size)"
      ],
      "execution_count": 26,
      "outputs": [
        {
          "output_type": "stream",
          "text": [
            "Found 14588 files belonging to 2 classes.\n"
          ],
          "name": "stdout"
        }
      ]
    },
    {
      "cell_type": "markdown",
      "metadata": {
        "id": "AOl4RXwjyTeC"
      },
      "source": [
        "#### 亦即，我們現在有三個dataset，這是經過 batch 處理的\n",
        "raw_train_ds, raw_validation_ds, raw_test_ds"
      ]
    },
    {
      "cell_type": "markdown",
      "metadata": {
        "id": "9Jir6WhFNS1J"
      },
      "source": [
        "## 2 文字向量化 textvectorization\n",
        "* 每個字詞依其頻率給定編號，字詞（tokens）轉換為字詞編號的序列（integer mode）。\n",
        "* 也可以文字袋的型式，將字詞向量化（binary mode），但失去了字詞的順序。我們以前者為例。\n",
        "* 產生 train_ds, val_ds, test_ds 三個dataset"
      ]
    },
    {
      "cell_type": "code",
      "metadata": {
        "id": "5WoSk82tKyw0"
      },
      "source": [
        "# 每篇文章最長的長度\n",
        "MAX_SEQUENCE_LENGTH = 250\n",
        "VOCAB_SIZE=10000\n",
        "# 以 intergermode 文字向量化，設定文本長度最多 250\n",
        "vectorize_layer = TextVectorization(\n",
        "    max_tokens=VOCAB_SIZE,\n",
        "    output_mode='int',\n",
        "    output_sequence_length=MAX_SEQUENCE_LENGTH)"
      ],
      "execution_count": 27,
      "outputs": []
    },
    {
      "cell_type": "code",
      "metadata": {
        "id": "yeFuRRHCK2kq"
      },
      "source": [
        "# 訓練組文字向量化, vectorize layer\n",
        "train_text = raw_train_ds.map(lambda text, labels: text)\n",
        "vectorize_layer.adapt(train_text)"
      ],
      "execution_count": 28,
      "outputs": []
    },
    {
      "cell_type": "code",
      "metadata": {
        "id": "ky0pBHxTLCXk"
      },
      "source": [
        "# 調整張量維度\n",
        "def vectorize_text(text, label):\n",
        "  text = tf.expand_dims(text, -1)\n",
        "  return vectorize_layer(text), label"
      ],
      "execution_count": 29,
      "outputs": []
    },
    {
      "cell_type": "code",
      "metadata": {
        "id": "bTxs54P5LkRw"
      },
      "source": [
        "# raw_train_ds 轉換為 dataset\n",
        "train_ds = raw_train_ds.map(vectorize_text)"
      ],
      "execution_count": 30,
      "outputs": []
    },
    {
      "cell_type": "code",
      "metadata": {
        "id": "6lo_s03iC1zn"
      },
      "source": [
        "val_text = raw_val_ds.map(lambda text, labels: text)\n",
        "vectorize_layer.adapt(val_text)\n",
        "val_ds = raw_val_ds.map(vectorize_text)"
      ],
      "execution_count": 31,
      "outputs": []
    },
    {
      "cell_type": "code",
      "metadata": {
        "id": "Ow901lbEC13D"
      },
      "source": [
        "test_text = raw_test_ds.map(lambda text, labels: text)\n",
        "vectorize_layer.adapt(test_text)\n",
        "test_ds = raw_test_ds.map(vectorize_text)"
      ],
      "execution_count": 32,
      "outputs": []
    },
    {
      "cell_type": "markdown",
      "metadata": {
        "id": "0-f5qeSCma7J"
      },
      "source": [
        "## 檢查轉換後的結果\n",
        "* 從 raw_train_ds 讀取資料\n",
        "* 第一個 batch, 第幾筆資料\n",
        "* 印出原始文字，與向量化以後的dataset"
      ]
    },
    {
      "cell_type": "code",
      "metadata": {
        "id": "PjmvOV52LGnc",
        "colab": {
          "base_uri": "https://localhost:8080/"
        },
        "outputId": "0988e8ec-ee5e-4af6-e1cc-c7b0d3c4ca66"
      },
      "source": [
        "# 第一個 batch，裡面的第一筆資料\n",
        "text_batch, label_batch = next(iter(raw_train_ds))\n",
        "check=10\n",
        "check_doc, check_label = text_batch[check], label_batch[check]\n",
        "# 印中文要加 .numpy().decode(\"utf-8\")\n",
        "print(\"doc:\", check_doc.numpy().decode(\"utf-8\"))\n",
        "print(\"Label:\", check_label.numpy())"
      ],
      "execution_count": 33,
      "outputs": [
        {
          "output_type": "stream",
          "text": [
            "doc: 面料 不錯 穿 上 很 舒服 大小 合適 \n",
            "Label: 1\n"
          ],
          "name": "stdout"
        }
      ]
    },
    {
      "cell_type": "code",
      "metadata": {
        "id": "yjwxqfwCLToj",
        "colab": {
          "base_uri": "https://localhost:8080/"
        },
        "outputId": "f0df951f-3aba-48c7-c35a-e0651cfeefe9"
      },
      "source": [
        "# 向量化以後的結果，與原始文字對照\n",
        "# vectorize_text 是調整張量維度\n",
        "check_vec=vectorize_text(check_doc, check_label)\n",
        "# 同學可以自己測試 check_vec 的結構\n",
        "print(check_vec)"
      ],
      "execution_count": 34,
      "outputs": [
        {
          "output_type": "stream",
          "text": [
            "(<tf.Tensor: shape=(1, 250), dtype=int64, numpy=\n",
            "array([[549,  16, 154,  41,   8, 114, 255, 237,   0,   0,   0,   0,   0,\n",
            "          0,   0,   0,   0,   0,   0,   0,   0,   0,   0,   0,   0,   0,\n",
            "          0,   0,   0,   0,   0,   0,   0,   0,   0,   0,   0,   0,   0,\n",
            "          0,   0,   0,   0,   0,   0,   0,   0,   0,   0,   0,   0,   0,\n",
            "          0,   0,   0,   0,   0,   0,   0,   0,   0,   0,   0,   0,   0,\n",
            "          0,   0,   0,   0,   0,   0,   0,   0,   0,   0,   0,   0,   0,\n",
            "          0,   0,   0,   0,   0,   0,   0,   0,   0,   0,   0,   0,   0,\n",
            "          0,   0,   0,   0,   0,   0,   0,   0,   0,   0,   0,   0,   0,\n",
            "          0,   0,   0,   0,   0,   0,   0,   0,   0,   0,   0,   0,   0,\n",
            "          0,   0,   0,   0,   0,   0,   0,   0,   0,   0,   0,   0,   0,\n",
            "          0,   0,   0,   0,   0,   0,   0,   0,   0,   0,   0,   0,   0,\n",
            "          0,   0,   0,   0,   0,   0,   0,   0,   0,   0,   0,   0,   0,\n",
            "          0,   0,   0,   0,   0,   0,   0,   0,   0,   0,   0,   0,   0,\n",
            "          0,   0,   0,   0,   0,   0,   0,   0,   0,   0,   0,   0,   0,\n",
            "          0,   0,   0,   0,   0,   0,   0,   0,   0,   0,   0,   0,   0,\n",
            "          0,   0,   0,   0,   0,   0,   0,   0,   0,   0,   0,   0,   0,\n",
            "          0,   0,   0,   0,   0,   0,   0,   0,   0,   0,   0,   0,   0,\n",
            "          0,   0,   0,   0,   0,   0,   0,   0,   0,   0,   0,   0,   0,\n",
            "          0,   0,   0,   0,   0,   0,   0,   0,   0,   0,   0,   0,   0,\n",
            "          0,   0,   0]])>, <tf.Tensor: shape=(), dtype=int32, numpy=1>)\n"
          ],
          "name": "stdout"
        }
      ]
    },
    {
      "cell_type": "code",
      "metadata": {
        "colab": {
          "base_uri": "https://localhost:8080/"
        },
        "id": "bs0O5AEPp_Jd",
        "outputId": "5059b043-eb78-4bff-81d2-f9e0d616577d"
      },
      "source": [
        "for n in range(15):\n",
        "  c=check_vec[0].numpy()[0][n]\n",
        "  print(c,\"--\", vectorize_layer.get_vocabulary()[c]) \n",
        "print(\"Vocabulary size: {}\".format(len(vectorize_layer.get_vocabulary())))"
      ],
      "execution_count": 35,
      "outputs": [
        {
          "output_type": "stream",
          "text": [
            "549 -- 面料\n",
            "16 -- 不錯\n",
            "154 -- 穿\n",
            "41 -- 上\n",
            "8 -- 很\n",
            "114 -- 舒服\n",
            "255 -- 大小\n",
            "237 -- 合適\n",
            "0 -- \n",
            "0 -- \n",
            "0 -- \n",
            "0 -- \n",
            "0 -- \n",
            "0 -- \n",
            "0 -- \n",
            "Vocabulary size: 10000\n"
          ],
          "name": "stdout"
        }
      ]
    },
    {
      "cell_type": "markdown",
      "metadata": {
        "id": "Rl48rTbCJ7Kr"
      },
      "source": [
        "因為資料可能很龐大，檔案很多，有兩個方法可以避免匯入資料時卡住。\n",
        "* .cache()讀入的資料會放在暫存區，這可避免訓練資料時讀取成為瓶頸。如果檔案很多特別有效。\n",
        "* .prefetch() 訓練時資料處理與模型執行重疊(overlaps)的技巧，亦可提昇效率。\n"
      ]
    },
    {
      "cell_type": "code",
      "metadata": {
        "id": "WqBSQG6DKMJa"
      },
      "source": [
        "AUTOTUNE = tf.data.AUTOTUNE\n",
        "def configure_dataset(dataset):\n",
        "  return dataset.cache().prefetch(buffer_size=AUTOTUNE)"
      ],
      "execution_count": 36,
      "outputs": []
    },
    {
      "cell_type": "code",
      "metadata": {
        "id": "weuRRJlRJ7Pn"
      },
      "source": [
        "train_ds = configure_dataset(train_ds)\n",
        "val_ds = configure_dataset(val_ds)\n",
        "test_ds = configure_dataset(test_ds)"
      ],
      "execution_count": 37,
      "outputs": []
    },
    {
      "cell_type": "markdown",
      "metadata": {
        "id": "goyQgDroJ7UC"
      },
      "source": [
        "## 建立模型\n",
        "* 已經建好向量化之後的三個 dataset\n",
        "* int_train_ds, int_val_ds, int_test_ds\n"
      ]
    },
    {
      "cell_type": "code",
      "metadata": {
        "id": "RdfDiAO6PHIV"
      },
      "source": [
        "# 因為 padding 要補零\n",
        "VOCAB_SIZE += 1"
      ],
      "execution_count": 38,
      "outputs": []
    },
    {
      "cell_type": "markdown",
      "metadata": {
        "id": "AE3sBQnp3sII"
      },
      "source": [
        "### CNN model"
      ]
    },
    {
      "cell_type": "code",
      "metadata": {
        "colab": {
          "base_uri": "https://localhost:8080/"
        },
        "id": "DlldQlNot5xM",
        "outputId": "265d853f-080e-40c0-ad54-27a51aa86d8b"
      },
      "source": [
        "model_CNN = Sequential([\n",
        "      Embedding(VOCAB_SIZE, 64, mask_zero=True),\n",
        "      Conv1D(64, 5, padding=\"valid\", activation=\"relu\", strides=2),\n",
        "      GlobalMaxPooling1D(),\n",
        "      Dense(2)\n",
        "  ])\n",
        "model_CNN.compile(\n",
        "    loss=losses.SparseCategoricalCrossentropy(from_logits=True),\n",
        "    optimizer='adam',\n",
        "    metrics=['accuracy'])\n",
        "model_CNN.summary()"
      ],
      "execution_count": 39,
      "outputs": [
        {
          "output_type": "stream",
          "text": [
            "Model: \"sequential\"\n",
            "_________________________________________________________________\n",
            "Layer (type)                 Output Shape              Param #   \n",
            "=================================================================\n",
            "embedding (Embedding)        (None, None, 64)          640064    \n",
            "_________________________________________________________________\n",
            "conv1d (Conv1D)              (None, None, 64)          20544     \n",
            "_________________________________________________________________\n",
            "global_max_pooling1d (Global (None, 64)                0         \n",
            "_________________________________________________________________\n",
            "dense (Dense)                (None, 2)                 130       \n",
            "=================================================================\n",
            "Total params: 660,738\n",
            "Trainable params: 660,738\n",
            "Non-trainable params: 0\n",
            "_________________________________________________________________\n"
          ],
          "name": "stdout"
        }
      ]
    },
    {
      "cell_type": "code",
      "metadata": {
        "id": "4EP0xJy1AV_l",
        "colab": {
          "base_uri": "https://localhost:8080/"
        },
        "outputId": "6aee47f2-1c64-4b80-c9f8-adf732e30d63"
      },
      "source": [
        "# cnn model\n",
        "history_CNN = model_CNN.fit(\n",
        "    train_ds, validation_data=val_ds, epochs=5)"
      ],
      "execution_count": 40,
      "outputs": [
        {
          "output_type": "stream",
          "text": [
            "Epoch 1/5\n",
            "1459/1459 [==============================] - 53s 15ms/step - loss: 0.2817 - accuracy: 0.8881 - val_loss: 0.2093 - val_accuracy: 0.9241\n",
            "Epoch 2/5\n",
            "1459/1459 [==============================] - 14s 9ms/step - loss: 0.1541 - accuracy: 0.9473 - val_loss: 0.2073 - val_accuracy: 0.9270\n",
            "Epoch 3/5\n",
            "1459/1459 [==============================] - 14s 9ms/step - loss: 0.0886 - accuracy: 0.9738 - val_loss: 0.2479 - val_accuracy: 0.9191\n",
            "Epoch 4/5\n",
            "1459/1459 [==============================] - 14s 9ms/step - loss: 0.0440 - accuracy: 0.9891 - val_loss: 0.2866 - val_accuracy: 0.9167\n",
            "Epoch 5/5\n",
            "1459/1459 [==============================] - 14s 10ms/step - loss: 0.0204 - accuracy: 0.9952 - val_loss: 0.3236 - val_accuracy: 0.9182\n"
          ],
          "name": "stdout"
        }
      ]
    },
    {
      "cell_type": "markdown",
      "metadata": {
        "id": "rpKKoPpq3y5r"
      },
      "source": [
        "### RNN model"
      ]
    },
    {
      "cell_type": "code",
      "metadata": {
        "id": "oK-ADO2soO_3",
        "colab": {
          "base_uri": "https://localhost:8080/"
        },
        "outputId": "04c32837-e14a-46c4-89b9-51a35ea9f14e"
      },
      "source": [
        "model_RNN = Sequential([\n",
        "    Embedding(VOCAB_SIZE,output_dim=64,mask_zero=True),\n",
        "    SimpleRNN(64),\n",
        "    Dense(64, activation='relu'),\n",
        "    Dense(2)\n",
        "  ])\n",
        "\n",
        "# compile\n",
        "model_RNN.compile(\n",
        "    loss=losses.SparseCategoricalCrossentropy(from_logits=True),\n",
        "    optimizer='adam',\n",
        "    metrics=['accuracy'])\n",
        "model_RNN.summary()  "
      ],
      "execution_count": 41,
      "outputs": [
        {
          "output_type": "stream",
          "text": [
            "Model: \"sequential_1\"\n",
            "_________________________________________________________________\n",
            "Layer (type)                 Output Shape              Param #   \n",
            "=================================================================\n",
            "embedding_1 (Embedding)      (None, None, 64)          640064    \n",
            "_________________________________________________________________\n",
            "simple_rnn (SimpleRNN)       (None, 64)                8256      \n",
            "_________________________________________________________________\n",
            "dense_1 (Dense)              (None, 64)                4160      \n",
            "_________________________________________________________________\n",
            "dense_2 (Dense)              (None, 2)                 130       \n",
            "=================================================================\n",
            "Total params: 652,610\n",
            "Trainable params: 652,610\n",
            "Non-trainable params: 0\n",
            "_________________________________________________________________\n"
          ],
          "name": "stdout"
        }
      ]
    },
    {
      "cell_type": "code",
      "metadata": {
        "id": "s9rG1cFRL31Z",
        "colab": {
          "base_uri": "https://localhost:8080/"
        },
        "outputId": "0a9ce6cd-fb69-44a2-9e2f-fa7557ac2c3f"
      },
      "source": [
        "# rnn model\n",
        "history_RNN = model_RNN.fit(\n",
        "    train_ds, validation_data=val_ds, epochs=5)"
      ],
      "execution_count": 42,
      "outputs": [
        {
          "output_type": "stream",
          "text": [
            "Epoch 1/5\n",
            "1459/1459 [==============================] - 482s 329ms/step - loss: 0.3278 - accuracy: 0.8668 - val_loss: 0.4232 - val_accuracy: 0.7943\n",
            "Epoch 2/5\n",
            "1459/1459 [==============================] - 483s 331ms/step - loss: 0.2335 - accuracy: 0.9131 - val_loss: 0.2718 - val_accuracy: 0.9018\n",
            "Epoch 3/5\n",
            "1459/1459 [==============================] - 482s 330ms/step - loss: 0.1780 - accuracy: 0.9366 - val_loss: 0.2850 - val_accuracy: 0.9010\n",
            "Epoch 4/5\n",
            "1459/1459 [==============================] - 480s 329ms/step - loss: 0.1307 - accuracy: 0.9546 - val_loss: 0.3245 - val_accuracy: 0.8993\n",
            "Epoch 5/5\n",
            "1459/1459 [==============================] - 478s 328ms/step - loss: 0.0892 - accuracy: 0.9696 - val_loss: 0.3690 - val_accuracy: 0.8979\n"
          ],
          "name": "stdout"
        }
      ]
    },
    {
      "cell_type": "markdown",
      "metadata": {
        "id": "ezEMXPoB2neb"
      },
      "source": [
        "## 評估 test_ds"
      ]
    },
    {
      "cell_type": "code",
      "metadata": {
        "id": "5dTc4nZqf7fK",
        "colab": {
          "base_uri": "https://localhost:8080/"
        },
        "outputId": "62705142-d9dd-4776-c8f8-d4eda6be44de"
      },
      "source": [
        "# 注意 資料集的格式 int_test_ds \n",
        "CNN_loss, CNN_accuracy = model_CNN.evaluate(test_ds)\n",
        "RNN_loss, RNN_accuracy = model_RNN.evaluate(test_ds)\n",
        "\n",
        "print(\"CNN model accuracy: {:2.2%}\".format(CNN_accuracy))\n",
        "print(\"RNN model accuracy: {:2.2%}\".format(RNN_accuracy))"
      ],
      "execution_count": 43,
      "outputs": [
        {
          "output_type": "stream",
          "text": [
            "456/456 [==============================] - 3s 7ms/step - loss: 0.3225 - accuracy: 0.9212\n",
            "456/456 [==============================] - 12s 27ms/step - loss: 0.3423 - accuracy: 0.9017\n",
            "CNN model accuracy: 92.12%\n",
            "RNN model accuracy: 90.17%\n"
          ],
          "name": "stdout"
        }
      ]
    },
    {
      "cell_type": "markdown",
      "metadata": {
        "id": "h9GaXTsIgP-3"
      },
      "source": [
        "## Export the model and predict\n",
        "\n",
        "還記得，當初我們將資料分為 raw_train_da, raw_valid_ds, raw_test_ds 三個組。\n",
        "這是還沒有encode的原始檔。如果要針對原始檔進行預測，我們要在模型中增加一個 'TextVectorization` layer. 一般的做法是產生一個新的model, 但是權數與你剛才訓練的模型一樣，這叫 Export the model."
      ]
    },
    {
      "cell_type": "code",
      "metadata": {
        "id": "leG5fVc6rbrd",
        "colab": {
          "base_uri": "https://localhost:8080/"
        },
        "outputId": "171210a7-e384-46ab-9e73-502da86c3f78"
      },
      "source": [
        "# 先顯示 raw_test_ds 資料，前十筆\n",
        "for text_batch, label_batch in raw_test_ds.take(1):\n",
        "  for i in range(10):\n",
        "    # 注意要 .decode(\"utf-8\") 才能顯示中文字，英文則不需要 ***\n",
        "    print(\"doc: \", text_batch.numpy()[i].decode(\"utf-8\"))\n",
        "    print(\"Label:\", label_batch.numpy()[i])"
      ],
      "execution_count": 44,
      "outputs": [
        {
          "output_type": "stream",
          "text": [
            "doc:  不爽 ， 沒 贈品 。 。 。 。 。 。 。 。 。 \n",
            "Label: 0\n",
            "doc:  從 上海 出發 ， 滬杭 高速 ， 杭州 繞城 北線 ， 西線 ， 杭徽 高速 ， 臨安 出口 下 ， 右 轉彎 後 第一個 紅綠燈 加油站 左轉 ， 市標 轉盤 處有 一條 小馬路 直走 就 到 了 。 環境 很 好 ， 度假 的 好去處 。 \n",
            "Label: 1\n",
            "doc:  東西 感覺 一般 快遞 也 慢 沒 感覺 出 這家 店 東西 多好 \n",
            "Label: 0\n",
            "doc:  先天下之憂而憂 ” - - - - 是 這群 有 思想 、 有 大局觀 的 有識之士 的 共同 特徵 、 以 天下興亡 為 己任 ” - - - - 是 他們 的 高尚 品德 。 這樣 的 群體 越 壯大 ， 我們 的 國家 、 我們 的 民族 才 越 有 希望 。 希望 此書 能 喚醒 一部分 國人 ， 不要 再 沉迷於 娛樂 ” 、 網游 ” 之中 。 國家興亡 ， 匹夫有責 ， 國家 的 命運 承載 著 我們 共同 的 命運 ， 可 千萬 當打 醬油 ” 的 。 此書 章節 劃分 凌亂 ， 拼湊 感強 ， 喜歡 華麗 辭藻 、 講究 行文 的 朋友 - - - - 閃 。 \n",
            "Label: 1\n",
            "doc:  還 不錯 ， 快遞 速度 可以 。 蘋果 大小 比較 均勻 ， 重量 相差 不大 ， 我稱 了 一個 ， 克 。 \n",
            "Label: 1\n",
            "doc:  在 京東 買 了 很多 水果 ， 蘋果 ， 奇異果 很 好 ， 都 很 好吃 很 實惠 ， 比 實體店 便宜 多 了 ， 隔天 到 送貨 速度 也 非常 快 ， 吃 完 繼續 買 ， 也 是 佳節 送禮 的 好 佳品 喔 \n",
            "Label: 1\n",
            "doc:  用 了 不到 兩個 月 就 不能 開機 了 什麼 鬼 機器 還 自營 \n",
            "Label: 0\n",
            "doc:  太老舊 了 這個 酒店 潮濕味重 設施 舊 彷彿 九十年代 的 產物 \n",
            "Label: 0\n",
            "doc:  褲子 太長 而且 褲腳 有點 大 \n",
            "Label: 0\n",
            "doc:  很 值得 推薦 的 一 本書 ， 最初 是 買給 女兒 的 ， 同事 看到 後 覺得 不錯 ， 要 我 替 他們 買過 多次 。 \n",
            "Label: 1\n"
          ],
          "name": "stdout"
        }
      ]
    },
    {
      "cell_type": "markdown",
      "metadata": {
        "id": "TFcyIMiDyV4B"
      },
      "source": [
        "### export_model_CNN"
      ]
    },
    {
      "cell_type": "code",
      "metadata": {
        "id": "_bRe3KX8gRCX",
        "colab": {
          "base_uri": "https://localhost:8080/"
        },
        "outputId": "7f763352-cc9d-4c5e-8d57-f10c94bd57ea"
      },
      "source": [
        "# export_model_CNN\n",
        "export_model_CNN = Sequential(\n",
        "    [vectorize_layer, model_CNN,\n",
        "     layers.Activation('sigmoid')])\n",
        "\n",
        "# compile\n",
        "export_model_CNN.compile(\n",
        "    # 因為指定用 sigmoid, 所以 from_logits=False\n",
        "    loss=losses.SparseCategoricalCrossentropy(from_logits=False),\n",
        "    optimizer='adam',\n",
        "    metrics=['accuracy'])\n",
        "\n",
        "# 直接預測原始，未經向量化的 資料集 raw_test_ds\n",
        "loss, accuracy = export_model_CNN.evaluate(raw_test_ds)\n",
        "print(\"Accuracy: {:2.2%}\".format(CNN_accuracy))"
      ],
      "execution_count": 45,
      "outputs": [
        {
          "output_type": "stream",
          "text": [
            "456/456 [==============================] - 4s 8ms/step - loss: 0.3225 - accuracy: 0.9212\n",
            "Accuracy: 92.12%\n"
          ],
          "name": "stdout"
        }
      ]
    },
    {
      "cell_type": "markdown",
      "metadata": {
        "id": "IG2Mhe40w-le"
      },
      "source": [
        "### export_model_RNN"
      ]
    },
    {
      "cell_type": "code",
      "metadata": {
        "id": "uXS-vbd56Xe2",
        "colab": {
          "base_uri": "https://localhost:8080/"
        },
        "outputId": "6406d5f7-e0ad-495f-effd-5104f409dbd8"
      },
      "source": [
        "export_model_RNN = Sequential(\n",
        "    [vectorize_layer, model_RNN,\n",
        "     layers.Activation('sigmoid')])\n",
        "\n",
        "export_model_RNN.compile(\n",
        "    # 因為指定用 sigmoid, 所以 from_logits=False\n",
        "    loss=losses.SparseCategoricalCrossentropy(from_logits=False),\n",
        "    optimizer='adam',\n",
        "    metrics=['accuracy'])\n",
        "\n",
        "# 直接預測原始，未經向量化的 資料集 raw_test_ds\n",
        "loss, accuracy = export_model_RNN.evaluate(raw_test_ds)\n",
        "print(\"Accuracy: {:2.2%}\".format(RNN_accuracy))"
      ],
      "execution_count": 46,
      "outputs": [
        {
          "output_type": "stream",
          "text": [
            "456/456 [==============================] - 15s 32ms/step - loss: 0.3423 - accuracy: 0.9017\n",
            "Accuracy: 90.17%\n"
          ],
          "name": "stdout"
        }
      ]
    },
    {
      "cell_type": "markdown",
      "metadata": {
        "id": "yqnWc7Nn5eou"
      },
      "source": [
        "直接輸入句子(已斷詞)，進行預測"
      ]
    },
    {
      "cell_type": "code",
      "metadata": {
        "id": "GU53uRXz45iO"
      },
      "source": [
        "def get_string_labels(predicted_scores_batch):\n",
        "  predicted_int_labels = tf.argmax(predicted_scores_batch, axis=1)\n",
        "  predicted_labels = tf.gather(raw_train_ds.class_names, predicted_int_labels)\n",
        "  return predicted_labels"
      ],
      "execution_count": 47,
      "outputs": []
    },
    {
      "cell_type": "code",
      "metadata": {
        "id": "BOR2MupW1_zS",
        "colab": {
          "base_uri": "https://localhost:8080/"
        },
        "outputId": "6bb87262-5358-44b0-ce3f-3bcffa01fde9"
      },
      "source": [
        "inputs = [\n",
        "    \"基本 上 壽司郎 還是 有 它 非常 的 高 標準 ，即使 之前 發生 了 衛生 管理 的 問題 ，但是 整體 來說 我 還是 覺得 它 非常 的 不錯\",  \n",
        "    \"炸 南瓜 除了 沒有 南瓜 香甜 的 味道 ，麵衣 相當 的 油膩 。\", \n",
        "    \"經過 這次 之後 ，公館 壽司郎 變成 免費 送 我 才 想吃 的 餐廳\",\n",
        "    \"菜 慢 飯 鬆 蝦 冰 魚 小 候位 久\",\n",
        "    \"集點卡 的 集點 制度 有點 荒謬 ，居然 是 一人 一張 集點卡 ，不能 合併 使用\",\n",
        "    \"食物 本身 都 是 好吃 的 ，拉麵 也 非常 可口 ，唯獨 壽司郎 的 醬料 口味 都 很重 很鹹\",\n",
        "    \"鮭魚 果然 還是 要 季節 限定 才 好吃 啊\",\n",
        "    \"週五 晚餐 時段 前往 ，非常 多 人\",\n",
        "    \"榮登 愛店 之一 ，不過 假日 跟 連假 期間 最好 不要 去 ，以免 等 太久\",\n",
        "    \"只能 說 這裡 的 餐具 都 非常 的 髒\",\n",
        "\n",
        "    \"超級 不 推薦 蛤蜊 湯 覺得 食材 沒有 很 新鮮\",\n",
        "    \"系統 時間 有 問題 你 要 先 講\",\n",
        "    \"推薦 濃 海膽 麵 ，有 加 紫蘇 ，不愛 的 不要 點\",\n",
        "    \"服務生 說話 超級 快 很 像 複讀 機器\",\n",
        "    \"到底 哪個 天才 設計 的 定位 服務 啊 ，爛 死 了 ，欺騙 消費者 很 可惡\",\n",
        "    \"不會 想 來 這家 光顧 了\",\n",
        "    \"一間 連鎖 日本 評選 為 第一名 的 迴轉 壽司 不 應該 有 這種 失誤 吧\",\n",
        "    \"覺得 食材 都 縮水 了 厚度 也 比 以前 薄\",\n",
        "    \"懷疑 是 不是 座位 太 偏僻 ，好 食物 都 被 拿走 了\",\n",
        "    \"服務 人員 聚集 聊天 真 虧 了 鲑魚 的 行銷\",\n",
        "   \n",
        "]\n",
        "predicted_scores = export_model_RNN.predict(inputs)\n",
        "predicted_labels = get_string_labels(predicted_scores)\n",
        "for input, label in zip(inputs, predicted_labels):\n",
        "  print(\"句子: \", input)\n",
        "  print(\"預測: \", label.numpy())"
      ],
      "execution_count": 72,
      "outputs": [
        {
          "output_type": "stream",
          "text": [
            "句子:  基本 上 壽司郎 還是 有 它 非常 的 高 標準 ，即使 之前 發生 了 衛生 管理 的 問題 ，但是 整體 來說 我 還是 覺得 它 非常 的 不錯\n",
            "預測:  b'positive'\n",
            "句子:  炸 南瓜 除了 沒有 南瓜 香甜 的 味道 ，麵衣 相當 的 油膩 。\n",
            "預測:  b'positive'\n",
            "句子:  經過 這次 之後 ，公館 壽司郎 變成 免費 送 我 才 想吃 的 餐廳\n",
            "預測:  b'negative'\n",
            "句子:  菜 慢 飯 鬆 蝦 冰 魚 小 候位 久\n",
            "預測:  b'negative'\n",
            "句子:  集點卡 的 集點 制度 有點 荒謬 ，居然 是 一人 一張 集點卡 ，不能 合併 使用\n",
            "預測:  b'positive'\n",
            "句子:  食物 本身 都 是 好吃 的 ，拉麵 也 非常 可口 ，唯獨 壽司郎 的 醬料 口味 都 很重 很鹹\n",
            "預測:  b'positive'\n",
            "句子:  鮭魚 果然 還是 要 季節 限定 才 好吃 啊\n",
            "預測:  b'positive'\n",
            "句子:  週五 晚餐 時段 前往 ，非常 多 人\n",
            "預測:  b'positive'\n",
            "句子:  榮登 愛店 之一 ，不過 假日 跟 連假 期間 最好 不要 去 ，以免 等 太久\n",
            "預測:  b'negative'\n",
            "句子:  只能 說 這裡 的 餐具 都 非常 的 髒\n",
            "預測:  b'negative'\n",
            "句子:  超級 不 推薦 蛤蜊 湯 覺得 食材 沒有 很 新鮮\n",
            "預測:  b'positive'\n",
            "句子:  系統 時間 有 問題 你 要 先 講\n",
            "預測:  b'positive'\n",
            "句子:  推薦 濃 海膽 麵 ，有 加 紫蘇 ，不愛 的 不要 點\n",
            "預測:  b'positive'\n",
            "句子:  服務生 說話 超級 快 很 像 複讀 機器\n",
            "預測:  b'positive'\n",
            "句子:  到底 哪個 天才 設計 的 定位 服務 啊 ，爛 死 了 ，欺騙 消費者 很 可惡\n",
            "預測:  b'negative'\n",
            "句子:  不會 想 來 這家 光顧 了\n",
            "預測:  b'negative'\n",
            "句子:  一間 連鎖 日本 評選 為 第一名 的 迴轉 壽司 不 應該 有 這種 失誤 吧\n",
            "預測:  b'negative'\n",
            "句子:  覺得 食材 都 縮水 了 厚度 也 比 以前 薄\n",
            "預測:  b'positive'\n",
            "句子:  懷疑 是 不是 座位 太 偏僻 ，好 食物 都 被 拿走 了\n",
            "預測:  b'negative'\n",
            "句子:  服務 人員 聚集 聊天 真 虧 了 鲑魚 的 行銷\n",
            "預測:  b'negative'\n"
          ],
          "name": "stdout"
        }
      ]
    },
    {
      "cell_type": "code",
      "metadata": {
        "id": "nEVdXH9y5jca"
      },
      "source": [
        ""
      ],
      "execution_count": null,
      "outputs": []
    }
  ]
}